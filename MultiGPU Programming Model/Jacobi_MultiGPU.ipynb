{
 "cells": [
  {
   "cell_type": "markdown",
   "id": "597ec707",
   "metadata": {},
   "source": [
    "# Solveur de Jacobi : Modèles de programmation Multi-GPU\n",
    "Ce notebook présente 12 versions progressives d’un solveur de Jacobi 2D. Chaque section explique le modèle ou l’optimisation, compile la version, exécute et collecte les métriques Nsight."
   ]
  },
  {
   "cell_type": "markdown",
   "id": "76743c6f",
   "metadata": {},
   "source": [
    "## etape1_cpu\n",
    "**Description :** Solveur Jacobi CPU de base : implémentation mono-thread. Utile pour valider la correction et les petites tailles de problème ; met en évidence la limite de calcul CPU.\n",
    "\n",
    "**Intérêt :** Baseline : évalue la limite mémoire CPU pour établir une référence."
   ]
  },
  {
   "cell_type": "code",
   "execution_count": null,
   "id": "663c6c9c",
   "metadata": {},
   "outputs": [],
   "source": [
    "%%bash cd etape1_cpu ; make all"
   ]
  },
  {
   "cell_type": "code",
   "execution_count": null,
   "id": "33b445b3",
   "metadata": {},
   "outputs": [],
   "source": [
    "%%bash cd etape1_cpu ; nv-nsight-cu-cli --csv --report-file rapport_etape1_cpu.csv ./main ;cat rapport_etape1_cpu.csv"
   ]
  },
  {
   "cell_type": "markdown",
   "id": "5d9adeda",
   "metadata": {},
   "source": [
    "## etape2_cpu_gpu\n",
    "**Description :** 1 CPU + 1 GPU : délégation du noyau Jacobi à un GPU. Montre l'accélération GPU quand le problème tient sur un seul dispositif.\n",
    "\n",
    "**Intérêt :** Met en évidence l'écart de performance CPU vs GPU lorsque la grille est suffisamment grande."
   ]
  },
  {
   "cell_type": "code",
   "execution_count": null,
   "id": "cfda1c98",
   "metadata": {},
   "outputs": [],
   "source": [
    "%%bash cd etape2_cpu_gpu ; make all"
   ]
  },
  {
   "cell_type": "code",
   "execution_count": null,
   "id": "1b60efac",
   "metadata": {},
   "outputs": [],
   "source": [
    "%%bash cd etape2_cpu_gpu ; nv-nsight-cu-cli --csv --report-file rapport_etape2_cpu_gpu.csv ./main ;cat rapport_etape2_cpu_gpu.csv"
   ]
  },
  {
   "cell_type": "markdown",
   "id": "189f43cb",
   "metadata": {},
   "source": [
    "## etape3_mpi_gpus\n",
    "**Description :** MPI + GPUs : domaine réparti sur plusieurs rangs MPI, chacun pilotant un GPU. Illustrations des défis de mise à l'échelle multi-nœuds et des communications inter-rangs.\n",
    "\n",
    "**Intérêt :** Test de montée en charge inter-nœuds et coût MPI sur cluster multi-GPU."
   ]
  },
  {
   "cell_type": "code",
   "execution_count": null,
   "id": "8b62ff5d",
   "metadata": {},
   "outputs": [],
   "source": [
    "%%bash cd etape3_mpi_gpus ; make all"
   ]
  },
  {
   "cell_type": "code",
   "execution_count": null,
   "id": "ea553036",
   "metadata": {},
   "outputs": [],
   "source": [
    "%%bash cd etape3_mpi_gpus ; nv-nsight-cu-cli --csv --report-file rapport_etape3_mpi_gpus.csv ./main ;cat rapport_etape3_mpi_gpus.csv"
   ]
  },
  {
   "cell_type": "markdown",
   "id": "8ff75be9",
   "metadata": {},
   "source": [
    "## etape4_mpi_overlap\n",
    "**Description :** MPI + recouvrement : recouvrements des échanges d’halo non-bloquants avec le calcul Jacobi local. Réduit l'impact de la latence réseau.\n",
    "\n",
    "**Intérêt :** Cache la latence réseau en recouvrant communication et calcul local."
   ]
  },
  {
   "cell_type": "code",
   "execution_count": null,
   "id": "2fc1c683",
   "metadata": {},
   "outputs": [],
   "source": [
    "%%bash cd etape4_mpi_overlap ; make all"
   ]
  },
  {
   "cell_type": "code",
   "execution_count": null,
   "id": "c19c7d92",
   "metadata": {},
   "outputs": [],
   "source": [
    "%%bash cd etape4_mpi_overlap ; nv-nsight-cu-cli --csv --report-file rapport_etape4_mpi_overlap.csv ./main ;cat rapport_etape4_mpi_overlap.csv"
   ]
  },
  {
   "cell_type": "markdown",
   "id": "331c483d",
   "metadata": {},
   "source": [
    "## etape5_nccl\n",
    "**Description :** NCCL : utilisation de la NVIDIA Collective Communications Library pour les échanges GPU à GPU. Montre les gains via NVLink ou PCIe haute bande passante.\n",
    "\n",
    "**Intérêt :** Exploite automatiquement le topologie NVLink/PCIe pour des échanges GPU efficaces."
   ]
  },
  {
   "cell_type": "code",
   "execution_count": null,
   "id": "e229ddd9",
   "metadata": {},
   "outputs": [],
   "source": [
    "%%bash cd etape5_nccl ; make all"
   ]
  },
  {
   "cell_type": "code",
   "execution_count": null,
   "id": "8fc9b43f",
   "metadata": {},
   "outputs": [],
   "source": [
    "%%bash cd etape5_nccl ; nv-nsight-cu-cli --csv --report-file rapport_etape5_nccl.csv ./main ;cat rapport_etape5_nccl.csv"
   ]
  },
  {
   "cell_type": "markdown",
   "id": "6af0a891",
   "metadata": {},
   "source": [
    "## etape6_nccl_overlap\n",
    "**Description :** NCCL + recouvrement : superposition des collectifs NCCL avec le calcul sur GPU, cachant le coût de communication.\n",
    "\n",
    "**Intérêt :** Essentiel à forte densité GPU pour maintenir les cœurs occupés."
   ]
  },
  {
   "cell_type": "code",
   "execution_count": null,
   "id": "0512b3f2",
   "metadata": {},
   "outputs": [],
   "source": [
    "%%bash cd etape6_nccl_overlap ; make all"
   ]
  },
  {
   "cell_type": "code",
   "execution_count": null,
   "id": "8bcde54d",
   "metadata": {},
   "outputs": [],
   "source": [
    "%%bash cd etape6_nccl_overlap ; nv-nsight-cu-cli --csv --report-file rapport_etape6_nccl_overlap.csv ./main ;cat rapport_etape6_nccl_overlap.csv"
   ]
  },
  {
   "cell_type": "markdown",
   "id": "f15f0dc6",
   "metadata": {},
   "source": [
    "## etape7_nccl_graphs\n",
    "**Description :** NCCL + CUDA Graphs : capture et relecture des séquences Jacobi/échange pour réduire le surcoût des lancements.\n",
    "\n",
    "**Intérêt :** Réduit l’overhead de lancement grâce aux CUDA Graphs."
   ]
  },
  {
   "cell_type": "code",
   "execution_count": null,
   "id": "9f5079b6",
   "metadata": {},
   "outputs": [],
   "source": [
    "%%bash cd etape7_nccl_graphs ; make all"
   ]
  },
  {
   "cell_type": "code",
   "execution_count": null,
   "id": "61978487",
   "metadata": {},
   "outputs": [],
   "source": [
    "%%bash cd etape7_nccl_graphs ; nv-nsight-cu-cli --csv --report-file rapport_etape7_nccl_graphs.csv ./main ;cat rapport_etape7_nccl_graphs.csv"
   ]
  },
  {
   "cell_type": "markdown",
   "id": "9c3cf425",
   "metadata": {},
   "source": [
    "## etape8_nvshmem\n",
    "**Description :** NVSHMEM : modèle PGAS à accès mémoire unilatéral GPU, simplifiant les mises à jour d’halo.\n",
    "\n",
    "**Intérêt :** Simplifie les échanges via modèle PGAS unilatéral."
   ]
  },
  {
   "cell_type": "code",
   "execution_count": null,
   "id": "94b3e2c1",
   "metadata": {},
   "outputs": [],
   "source": [
    "%%bash cd etape8_nvshmem ; make all"
   ]
  },
  {
   "cell_type": "code",
   "execution_count": null,
   "id": "f7c3b035",
   "metadata": {},
   "outputs": [],
   "source": [
    "%%bash cd etape8_nvshmem ; nv-nsight-cu-cli --csv --report-file rapport_etape8_nvshmem.csv ./main ;cat rapport_etape8_nvshmem.csv"
   ]
  },
  {
   "cell_type": "markdown",
   "id": "9c766fac",
   "metadata": {},
   "source": [
    "## etape9_nvshmem_lt\n",
    "**Description :** NVSHMEM + LTO : ajout de l’optimisation link-time pour inliner les fonctions critiques et réduire le coût des appels.\n",
    "\n",
    "**Intérêt :** Optimisation link-time pour inliner les sections critiques."
   ]
  },
  {
   "cell_type": "code",
   "execution_count": null,
   "id": "fa72c0d8",
   "metadata": {},
   "outputs": [],
   "source": [
    "%%bash cd etape9_nvshmem_lt ; make all"
   ]
  },
  {
   "cell_type": "code",
   "execution_count": null,
   "id": "c083a1a4",
   "metadata": {},
   "outputs": [],
   "source": [
    "%%bash cd etape9_nvshmem_lt ; nv-nsight-cu-cli --csv --report-file rapport_etape9_nvshmem_lt.csv ./main ;cat rapport_etape9_nvshmem_lt.csv"
   ]
  },
  {
   "cell_type": "markdown",
   "id": "1e894e5a",
   "metadata": {},
   "source": [
    "## etape10_vshmem_neighborhood_lto\n",
    "**Description :** vshmem neighborhood_sync + LTO : synchronisation fine-grain de voisinage et optimisations link-time O2.\n",
    "\n",
    "**Intérêt :** Synchronisation fine et LTO pour boucles serrées."
   ]
  },
  {
   "cell_type": "code",
   "execution_count": null,
   "id": "6c02e763",
   "metadata": {},
   "outputs": [],
   "source": [
    "%%bash cd etape10_vshmem_neighborhood_lto ; make all"
   ]
  },
  {
   "cell_type": "code",
   "execution_count": null,
   "id": "8c3ae677",
   "metadata": {},
   "outputs": [],
   "source": [
    "%%bash cd etape10_vshmem_neighborhood_lto ; nv-nsight-cu-cli --csv --report-file rapport_etape10_vshmem_neighborhood_lto.csv ./main ;cat rapport_etape10_vshmem_neighborhood_lto.csv"
   ]
  },
  {
   "cell_type": "markdown",
   "id": "502dc9b5",
   "metadata": {},
   "source": [
    "## etape11_nvshmem_norm_overlap_neighborhood_sync_lto\n",
    "**Description :** Combinaison : NVSHMEM avec recouvrement, synchrone de voisinage, et LTO pour maximiser la concurrence.\n",
    "\n",
    "**Intérêt :** Combinaison des meilleures pratiques pour un binaire ultra-optimisé."
   ]
  },
  {
   "cell_type": "code",
   "execution_count": null,
   "id": "b8c0ca44",
   "metadata": {},
   "outputs": [],
   "source": [
    "%%bash cd etape11_nvshmem_norm_overlap_neighborhood_sync_lto ; make all"
   ]
  },
  {
   "cell_type": "code",
   "execution_count": null,
   "id": "518fbe4c",
   "metadata": {},
   "outputs": [],
   "source": [
    "%%bash cd etape11_nvshmem_norm_overlap_neighborhood_sync_lto ; nv-nsight-cu-cli --csv --report-file rapport_etape11_nvshmem_norm_overlap_neighborhood_sync_lto.csv ./main ;cat rapport_etape11_nvshmem_norm_overlap_neighborhood_sync_lto.csv"
   ]
  },
  {
   "cell_type": "markdown",
   "id": "e71f4b0d",
   "metadata": {},
   "source": [
    "## etape12_nvshmem_norm_overlap_neighborhood_sync_lto_ext1\n",
    "**Description :** Tuning étendu : paramètres ajustables (taille de tuile, ordre de boucles) et hooks de benchmark.\n",
    "\n",
    "**Intérêt :** Ajout de paramètres de tuning et hooks de benchmarking."
   ]
  },
  {
   "cell_type": "code",
   "execution_count": null,
   "id": "589177f2",
   "metadata": {},
   "outputs": [
    {
     "name": "stderr",
     "output_type": "stream",
     "text": [
      "UsageError: Line magic function `%bash` not found (But cell magic `%%bash` exists, did you mean that instead?).\n"
     ]
    }
   ],
   "source": [
    "%%bash cd etape12_nvshmem_norm_overlap_neighborhood_sync_lto_ext1 ; make all"
   ]
  },
  {
   "cell_type": "code",
   "execution_count": null,
   "id": "1f922def",
   "metadata": {},
   "outputs": [],
   "source": [
    "%%bash cd etape12_nvshmem_norm_overlap_neighborhood_sync_lto_ext1 ; nv-nsight-cu-cli --csv --report-file rapport_etape12_nvshmem_norm_overlap_neighborhood_sync_lto_ext1.csv ./main ;cat rapport_etape12_nvshmem_norm_overlap_neighborhood_sync_lto_ext1.csv"
   ]
  }
 ],
 "metadata": {
  "kernelspec": {
   "display_name": ".venv",
   "language": "python",
   "name": "python3"
  },
  "language_info": {
   "codemirror_mode": {
    "name": "ipython",
    "version": 3
   },
   "file_extension": ".py",
   "mimetype": "text/x-python",
   "name": "python",
   "nbconvert_exporter": "python",
   "pygments_lexer": "ipython3",
   "version": "3.13.3"
  }
 },
 "nbformat": 4,
 "nbformat_minor": 5
}

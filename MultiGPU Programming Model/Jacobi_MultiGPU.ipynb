{
 "cells": [
  {
   "cell_type": "markdown",
   "id": "e17aa471",
   "metadata": {},
   "source": [
    "# Solveur de Jacobi : Modèles de programmation Multi-GPU\n",
    "Ce notebook présente 12 versions progressives d’un solveur de Jacobi 2D. Chaque section explique le modèle ou l’optimisation, compile la version, exécute et collecte les métriques Nsight."
   ]
  },
  {
   "cell_type": "markdown",
   "id": "8c8dae0a",
   "metadata": {},
   "source": [
    "## etape1_cpu\n",
    "**Description :** Solveur Jacobi CPU de base : implémentation mono-thread. Utile pour valider la correction et les petites tailles de problème ; met en évidence la limite de calcul CPU.\n",
    "\n",
    "**Intérêt :** Baseline : évalue la limite CPU pour établir une référence."
   ]
  },
  {
   "cell_type": "code",
   "execution_count": 24,
   "id": "7e7495f1",
   "metadata": {},
   "outputs": [
    {
     "name": "stdout",
     "output_type": "stream",
     "text": [
      "gcc -O2 -o main main.c\n"
     ]
    }
   ],
   "source": [
    "%%bash\n",
    "cd etape1_cpu\n",
    "make all"
   ]
  },
  {
   "cell_type": "code",
   "execution_count": 25,
   "id": "d75f86e4",
   "metadata": {},
   "outputs": [
    {
     "name": "stderr",
     "output_type": "stream",
     "text": [
      "WARNING: CUDA tracing has been automatically enabled since it is a prerequisite for tracing OpenACC.\n"
     ]
    },
    {
     "name": "stdout",
     "output_type": "stream",
     "text": [
      "Terminé etape1_cpu\n",
      "CPU time: 18.183735 seconds\n",
      "Collecting data...\n",
      "Generating '/tmp/nsys-report-9a69.qdstrm'\n",
      "[1/7] [========================100%] main.nsys-repepep\n",
      "[2/7] [========================100%] main.sqlite2/7] [4%                          ] main.sqlite\n"
     ]
    },
    {
     "name": "stderr",
     "output_type": "stream",
     "text": [
      "SKIPPED: /home/corentin/Documents/Cours/M2/CHPS0904/CHPS0904_RENDU/MultiGPU Programming Model/etape1_cpu/main.sqlite does not contain CUDA trace data.\n",
      "SKIPPED: /home/corentin/Documents/Cours/M2/CHPS0904/CHPS0904_RENDU/MultiGPU Programming Model/etape1_cpu/main.sqlite does not contain CUDA kernel data.\n",
      "SKIPPED: /home/corentin/Documents/Cours/M2/CHPS0904/CHPS0904_RENDU/MultiGPU Programming Model/etape1_cpu/main.sqlite does not contain GPU memory data.\n",
      "SKIPPED: /home/corentin/Documents/Cours/M2/CHPS0904/CHPS0904_RENDU/MultiGPU Programming Model/etape1_cpu/main.sqlite does not contain GPU memory data.\n",
      "SKIPPED: /home/corentin/Documents/Cours/M2/CHPS0904/CHPS0904_RENDU/MultiGPU Programming Model/etape1_cpu/main.sqlite does not contain OpenACC event data.\n"
     ]
    },
    {
     "name": "stdout",
     "output_type": "stream",
     "text": [
      "[3/7] Executing 'cuda_api_sum' stats report\n",
      "[4/7] Executing 'cuda_gpu_kern_sum' stats report\n",
      "[5/7] Executing 'cuda_gpu_mem_time_sum' stats report\n",
      "[6/7] Executing 'cuda_gpu_mem_size_sum' stats report\n",
      "[7/7] Executing 'openacc_sum' stats report\n",
      "Generated:\n",
      "    /home/corentin/Documents/Cours/M2/CHPS0904/CHPS0904_RENDU/MultiGPU Programming Model/etape1_cpu/main.nsys-rep\n",
      "    /home/corentin/Documents/Cours/M2/CHPS0904/CHPS0904_RENDU/MultiGPU Programming Model/etape1_cpu/main.sqlite\n"
     ]
    }
   ],
   "source": [
    "%%bash \n",
    "cd etape1_cpu\n",
    "nsys profile -t openacc --stats=true --force-overwrite true -o main ./main"
   ]
  },
  {
   "cell_type": "markdown",
   "id": "e7d2f1db",
   "metadata": {},
   "source": [
    "## etape2_cpu_gpu\n",
    "**Description :** 1 CPU + 1 GPU + 1 stream : le CPU pilote le GPU via un unique stream CUDA. Le calcul Jacobi est entièrement délégué au GPU, le CPU ne fait que l’orchestration.\n",
    "\n",
    "**Intérêt :** Met en évidence l'écart de performance CPU vs GPU lorsque la grille est suffisamment grande, dans un contexte réaliste d’utilisation d’un seul GPU et d’un seul stream."
   ]
  },
  {
   "cell_type": "markdown",
   "id": "a9a70bb1",
   "metadata": {},
   "source": [
    "### Compilation et exécution (1 CPU + 1 GPU + 1 stream)"
   ]
  },
  {
   "cell_type": "code",
   "execution_count": 7,
   "id": "61559afe",
   "metadata": {},
   "outputs": [
    {
     "name": "stdout",
     "output_type": "stream",
     "text": [
      "nvcc -O2 -o app main.cu kernel.cu\n"
     ]
    },
    {
     "name": "stderr",
     "output_type": "stream",
     "text": [
      "nvcc warning : Support for offline compilation for architectures prior to '<compute/sm/lto>_75' will be removed in a future release (Use -Wno-deprecated-gpu-targets to suppress warning).\n",
      " be removed in a future release (Use -Wno-deprecated-gpu-targets to suppress warning).\n"
     ]
    }
   ],
   "source": [
    "%%bash \n",
    "cd etape2_cpu_gpu\n",
    "make all"
   ]
  },
  {
   "cell_type": "code",
   "execution_count": 8,
   "id": "45d30d45",
   "metadata": {},
   "outputs": [
    {
     "name": "stdout",
     "output_type": "stream",
     "text": [
      "Terminé etape2_cpu_gpu (1CPU + 1GPU + 1stream)\n",
      "GPU time: 1.904882 seconds\n",
      "Collecting data...\n",
      "Generating '/tmp/nsys-report-be73.qdstrm'\n",
      "[1/6] [0%                          ] main.nsys-repCollecting data...\n",
      "Generating '/tmp/nsys-report-be73.qdstrm'\n",
      "[1/6] [========================100%] main.nsys-repepepepep\n",
      "[1/6] [========================100%] main.nsys-rep\n",
      "[2/6] [========================100%] main.sqlite2/6] [4%                          ] main.sqlite2/6] [7%                          ] main.sqlite2/6] [10%                         ] main.sqlite2/6] [14%                         ] main.sqlite2/6] [==20%                       ] main.sqlite2/6] [===24%                      ] main.sqlite6] [====26%                     ] main.sqlite2/6] [=====29%                    ] main.sqlite6] [=====31%                    ] main.sqlite [======33%                   ] main.sqlite2/6] [=======36%                  ] main.sqlite6] [=======38%                  ] main.sqlite [========40%                 ] main.sqlite2/6] [=========44%                ] main.sqlite6] [=========46%                ] main.sqlite [==========48%               ] main.sqlite===========50%              ] main.sqlite2/6] [===========53%              ] main.sqlite2/6] [4%                          ] main.sqlite2/6] [7%                          ] main.sqlite2/6] [10%                         ] main.sqlite2/6] [14%                         ] main.sqlite2/6] [==20%                       ] main.sqlite2/6] [===24%                      ] main.sqlite6] [====26%                     ] main.sqlite2/6] [=====29%                    ] main.sqlite6] [=====31%                    ] main.sqlite [======33%                   ] main.sqlite2/6] [=======36%                  ] main.sqlite6] [=======38%                  ] main.sqlite [========40%                 ] main.sqlite2/6] [=========44%                ] main.sqlite6] [=========46%                ] main.sqlite [==========48%               ] main.sqlite===========50%              ] main.sqlite2/6] [===========53%              ] main.sqlite6] [============55%             ] main.sqlite [============57%             ] main.sqlite=============59%            ] main.sqlite2/6] [==============63%           ] main.sqlite6] [===============65%          ] main.sqlite [===============67%          ] main.sqlite================69%         ] main.sqlite==============71%         ] main.sqlite=============73%        ] main.sqlite2/6] [==================77%       ] main.sqlite6] [============55%             ] main.sqlite [============57%             ] main.sqlite=============59%            ] main.sqlite2/6] [==============63%           ] main.sqlite6] [===============65%          ] main.sqlite [===============67%          ] main.sqlite================69%         ] main.sqlite==============71%         ] main.sqlite=============73%        ] main.sqlite2/6] [==================77%       ] main.sqlite2/6] [========================97% ] main.sqlite6] [========================99% ] main.sqlite2/6] [========================97% ] main.sqlite6] [========================99% ] main.sqlite\n",
      "[2/6] [========================100%] main.sqlite\n",
      "[3/6] Executing 'cuda_api_sum' stats report\n",
      "\n",
      " Time (%)  Total Time (ns)  Num Calls    Avg (ns)      Med (ns)     Min (ns)    Max (ns)   StdDev (ns)            Name         \n",
      " --------  ---------------  ---------  ------------  ------------  ----------  ----------  ------------  ----------------------\n",
      "     84,0    1 417 336 177      1 001   1 415 920,0   1 350 272,0       6 430   1 823 165     115 798,0  cudaStreamSynchronize \n",
      "      6,0      116 607 603          3  38��869 201,0  20 446 896,0  20 401 455  75 759 252  31 947 729,0  cudaMemcpyAsync       \n",
      "      5,0       85 895 550          1  85 895 550,0  85 895 550,0  85 895 550  85 895 550           0,0  cudaStreamCreate      \n",
      "      3,0       58 791 543      1 000      58 791,0       3 130,0       2 270  53 995 565   1 707 341,0  cudaLaunchKernel      \n",
      "      0,0        3 296 849          2   1 648 424,0   1 648 424,0     204 472   3 092 377   2 042 057,0  cudaFree              \n",
      "      0,0          226 522          2     113��261,0     113 261,0      88 361     138 161      35 213,0  cudaMalloc            \n",
      "      0,0            7 330          1       7 330,0       7 330,0       7 330       7 330           0,0  cudaStreamDestroy     \n",
      "      0,0              850          1         850,0         850,0         850         850           0,0  cuModuleGetLoadingMode\n",
      "\n",
      "[4/6] Executing 'cuda_gpu_kern_sum' stats report\n",
      "\n",
      " Time (%)  Total Time (ns)  Instances   Avg (ns)     Med (ns)    Min (ns)   Max (ns)   StdDev (ns)                   Name                 \n",
      " --------  ---------------  ---------  -----------  -----------  ---------  ---------  -----------  --------------------------------------\n",
      "    100,0    1 388 216 153      1 000  1 388 216,0  1 345 881,0  1 332 042  1 762 306    100 184,0  jacobi_kernel(double *, double *, int)\n",
      "\n",
      "[5/6] Executing 'cuda_gpu_mem_time_sum' stats report\n",
      "\n",
      " Time (%)  Total Time (ns)  Count    Avg (ns)      Med (ns)     Min (ns)    Max (ns)   StdDev (ns)           Operation          \n",
      " --------  ---------------  -----  ------------  ------------  ----------  ----------  -----------  ----------------------------\n",
      "     64,0       74 700 073      1  74 700 073,0  74 700 073,0  74 700 073  74 700 073          0,0  [CUDA memcpy Device-to-Host]\n",
      "     35,0       40 641 964      2  20 320 982,0  20 320 982,0  20 318 598  20 323 366      3 371,0  [CUDA memcpy Host-to-Device]\n",
      "\n",
      "[6/6] Executing 'cuda_gpu_mem_size_sum' stats report\n",
      "\n",
      " Total (MB)  Count  Avg (MB)  Med (MB)  Min (MB)  Max (MB)  StdDev (MB)           Operation          \n",
      " ----------  -----  --------  --------  --------  --------  -----------  ----------------------------\n",
      " 268,435         2  134,218   134,218   134,218   134,218   0,000        [CUDA memcpy Host-to-Device]\n",
      " 134,218         1  134,218   134,218   134,218   134,218   0,000        [CUDA memcpy Device-to-Host]\n",
      "\n",
      "Generated:\n",
      "    /home/corentin/Documents/Cours/M2/CHPS0904/CHPS0904_RENDU/MultiGPU Programming Model/etape2_cpu_gpu/main.nsys-rep\n",
      "    /home/corentin/Documents/Cours/M2/CHPS0904/CHPS0904_RENDU/MultiGPU Programming Model/etape2_cpu_gpu/main.sqlite\n",
      "[3/6] Executing 'cuda_api_sum' stats report\n",
      "\n",
      " Time (%)  Total Time (ns)  Num Calls    Avg (ns)      Med (ns)     Min (ns)    Max (ns)   StdDev (ns)            Name         \n",
      " --------  ---------------  ---------  ------------  ------------  ----------  ----------  ------------  ----------------------\n",
      "     84,0    1 417 336 177      1 001   1 415 920,0   1 350 272,0       6 430   1 823 165     115 798,0  cudaStreamSynchronize \n",
      "      6,0      116 607 603          3  38��869 201,0  20 446 896,0  20 401 455  75 759 252  31 947 729,0  cudaMemcpyAsync       \n",
      "      5,0       85 895 550          1  85 895 550,0  85 895 550,0  85 895 550  85 895 550           0,0  cudaStreamCreate      \n",
      "      3,0       58 791 543      1 000      58 791,0       3 130,0       2 270  53 995 565   1 707 341,0  cudaLaunchKernel      \n",
      "      0,0        3 296 849          2   1 648 424,0   1 648 424,0     204 472   3 092 377   2 042 057,0  cudaFree              \n",
      "      0,0          226 522          2     113��261,0     113 261,0      88 361     138 161      35 213,0  cudaMalloc            \n",
      "      0,0            7 330          1       7 330,0       7 330,0       7 330       7 330           0,0  cudaStreamDestroy     \n",
      "      0,0              850          1         850,0         850,0         850         850           0,0  cuModuleGetLoadingMode\n",
      "\n",
      "[4/6] Executing 'cuda_gpu_kern_sum' stats report\n",
      "\n",
      " Time (%)  Total Time (ns)  Instances   Avg (ns)     Med (ns)    Min (ns)   Max (ns)   StdDev (ns)                   Name                 \n",
      " --------  ---------------  ---------  -----------  -----------  ---------  ---------  -----------  --------------------------------------\n",
      "    100,0    1 388 216 153      1 000  1 388 216,0  1 345 881,0  1 332 042  1 762 306    100 184,0  jacobi_kernel(double *, double *, int)\n",
      "\n",
      "[5/6] Executing 'cuda_gpu_mem_time_sum' stats report\n",
      "\n",
      " Time (%)  Total Time (ns)  Count    Avg (ns)      Med (ns)     Min (ns)    Max (ns)   StdDev (ns)           Operation          \n",
      " --------  ---------------  -----  ------------  ------------  ----------  ----------  -----------  ----------------------------\n",
      "     64,0       74 700 073      1  74 700 073,0  74 700 073,0  74 700 073  74 700 073          0,0  [CUDA memcpy Device-to-Host]\n",
      "     35,0       40 641 964      2  20 320 982,0  20 320 982,0  20 318 598  20 323 366      3 371,0  [CUDA memcpy Host-to-Device]\n",
      "\n",
      "[6/6] Executing 'cuda_gpu_mem_size_sum' stats report\n",
      "\n",
      " Total (MB)  Count  Avg (MB)  Med (MB)  Min (MB)  Max (MB)  StdDev (MB)           Operation          \n",
      " ----------  -----  --------  --------  --------  --------  -----------  ----------------------------\n",
      " 268,435         2  134,218   134,218   134,218   134,218   0,000        [CUDA memcpy Host-to-Device]\n",
      " 134,218         1  134,218   134,218   134,218   134,218   0,000        [CUDA memcpy Device-to-Host]\n",
      "\n",
      "Generated:\n",
      "    /home/corentin/Documents/Cours/M2/CHPS0904/CHPS0904_RENDU/MultiGPU Programming Model/etape2_cpu_gpu/main.nsys-rep\n",
      "    /home/corentin/Documents/Cours/M2/CHPS0904/CHPS0904_RENDU/MultiGPU Programming Model/etape2_cpu_gpu/main.sqlite\n"
     ]
    }
   ],
   "source": [
    "%%bash \n",
    "cd etape2_cpu_gpu\n",
    "nsys profile -t cuda --stats=true --force-overwrite true -o main ./app"
   ]
  },
  {
   "cell_type": "markdown",
   "id": "b20823ca",
   "metadata": {},
   "source": [
    "## etape3_mpi_gpus\n",
    "**Description :** MPI + GPUs : domaine réparti sur plusieurs rangs MPI, chacun pilotant un GPU. Illustrations des défis de mise à l'échelle multi-nœuds et des communications inter-rangs.\n",
    "\n",
    "**Intérêt :** Test de montée en charge inter-nœuds et coût MPI sur cluster multi-GPU."
   ]
  },
  {
   "cell_type": "code",
   "execution_count": null,
   "id": "0777a424",
   "metadata": {},
   "outputs": [],
   "source": [
    "%%bash \n",
    "cd etape3_mpi_gpus\n",
    "make all"
   ]
  },
  {
   "cell_type": "code",
   "execution_count": null,
   "id": "173bcdf8",
   "metadata": {},
   "outputs": [],
   "source": [
    "%%bash \n",
    "cd etape3_mpi_gpus\n",
    "nv-nsight-cu-cli --csv --report-file rapport_etape3_mpi_gpus.csv ./main\n",
    "cat rapport_etape3_mpi_gpus.csv"
   ]
  },
  {
   "cell_type": "markdown",
   "id": "3b520d22",
   "metadata": {},
   "source": [
    "## etape4_mpi_overlap\n",
    "**Description :** MPI + recouvrement : recouvrements des échanges d’halo non-bloquants avec le calcul Jacobi local. Réduit l'impact de la latence réseau.\n",
    "\n",
    "**Intérêt :** Cache la latence réseau en recouvrant communication et calcul local."
   ]
  },
  {
   "cell_type": "code",
   "execution_count": null,
   "id": "e8382b99",
   "metadata": {},
   "outputs": [],
   "source": [
    "%%bash \n",
    "cd etape4_mpi_overlap\n",
    "make all"
   ]
  },
  {
   "cell_type": "code",
   "execution_count": null,
   "id": "be3815dc",
   "metadata": {},
   "outputs": [],
   "source": [
    "%%bash \n",
    "cd etape4_mpi_overlap\n",
    "nv-nsight-cu-cli --csv --report-file rapport_etape4_mpi_overlap.csv ./main\n",
    "cat rapport_etape4_mpi_overlap.csv"
   ]
  },
  {
   "cell_type": "markdown",
   "id": "86582246",
   "metadata": {},
   "source": [
    "## etape5_nccl\n",
    "**Description :** NCCL : utilisation de la NVIDIA Collective Communications Library pour les échanges GPU à GPU. Montre les gains via NVLink ou PCIe haute bande passante.\n",
    "\n",
    "**Intérêt :** Exploite automatiquement le topologie NVLink/PCIe pour des échanges GPU efficaces."
   ]
  },
  {
   "cell_type": "code",
   "execution_count": null,
   "id": "8d614a7f",
   "metadata": {},
   "outputs": [],
   "source": [
    "%%bash\n",
    "cd etape5_nccl\n",
    "make all"
   ]
  },
  {
   "cell_type": "code",
   "execution_count": null,
   "id": "92d5c968",
   "metadata": {},
   "outputs": [],
   "source": [
    "%%bash \n",
    "cd etape5_nccl\n",
    "nv-nsight-cu-cli --csv --report-file rapport_etape5_nccl.csv ./main\n",
    "cat rapport_etape5_nccl.csv"
   ]
  },
  {
   "cell_type": "markdown",
   "id": "5ac1f7c0",
   "metadata": {},
   "source": [
    "## etape6_nccl_overlap\n",
    "**Description :** NCCL + recouvrement : superposition des collectifs NCCL avec le calcul sur GPU, cachant le coût de communication.\n",
    "\n",
    "**Intérêt :** Essentiel à forte densité GPU pour maintenir les cœurs occupés."
   ]
  },
  {
   "cell_type": "code",
   "execution_count": null,
   "id": "e02e365a",
   "metadata": {},
   "outputs": [],
   "source": [
    "%%bash \n",
    "cd etape6_nccl_overlap\n",
    "make all"
   ]
  },
  {
   "cell_type": "code",
   "execution_count": null,
   "id": "8971d927",
   "metadata": {},
   "outputs": [],
   "source": [
    "%%bash \n",
    "cd etape6_nccl_overlap \n",
    "nv-nsight-cu-cli --csv --report-file rapport_etape6_nccl_overlap.csv ./main\n",
    "cat rapport_etape6_nccl_overlap.csv"
   ]
  },
  {
   "cell_type": "markdown",
   "id": "dfd3c561",
   "metadata": {},
   "source": [
    "## etape7_nccl_graphs\n",
    "**Description :** NCCL + CUDA Graphs : capture et relecture des séquences Jacobi/échange pour réduire le surcoût des lancements.\n",
    "\n",
    "**Intérêt :** Réduit l’overhead de lancement grâce aux CUDA Graphs."
   ]
  },
  {
   "cell_type": "code",
   "execution_count": null,
   "id": "65978918",
   "metadata": {},
   "outputs": [],
   "source": [
    "%%bash \n",
    "cd etape7_nccl_graphs\n",
    "make all"
   ]
  },
  {
   "cell_type": "code",
   "execution_count": null,
   "id": "122ec68d",
   "metadata": {},
   "outputs": [],
   "source": [
    "%%bash \n",
    "cd etape7_nccl_graphs\n",
    "nv-nsight-cu-cli --csv --report-file rapport_etape7_nccl_graphs.csv ./main\n",
    "cat rapport_etape7_nccl_graphs.csv"
   ]
  },
  {
   "cell_type": "markdown",
   "id": "46c4aaa2",
   "metadata": {},
   "source": [
    "## etape8_nvshmem\n",
    "**Description :** NVSHMEM : modèle PGAS à accès mémoire unilatéral GPU, simplifiant les mises à jour d’halo.\n",
    "\n",
    "**Intérêt :** Simplifie les échanges via modèle PGAS unilatéral."
   ]
  },
  {
   "cell_type": "code",
   "execution_count": null,
   "id": "44a25a10",
   "metadata": {},
   "outputs": [],
   "source": [
    "%%bash \n",
    "cd etape8_nvshmem\n",
    "make all"
   ]
  },
  {
   "cell_type": "code",
   "execution_count": null,
   "id": "a90f3875",
   "metadata": {},
   "outputs": [],
   "source": [
    "%%bash \n",
    "cd etape8_nvshmem\n",
    "nv-nsight-cu-cli --csv --report-file rapport_etape8_nvshmem.csv ./main\n",
    "cat rapport_etape8_nvshmem.csv"
   ]
  },
  {
   "cell_type": "markdown",
   "id": "4ed9b0f5",
   "metadata": {},
   "source": [
    "## etape9_nvshmem_lt\n",
    "**Description :** NVSHMEM + LTO : ajout de l’optimisation link-time pour inliner les fonctions critiques et réduire le coût des appels.\n",
    "\n",
    "**Intérêt :** Optimisation link-time pour inliner les sections critiques."
   ]
  },
  {
   "cell_type": "code",
   "execution_count": null,
   "id": "876db49b",
   "metadata": {},
   "outputs": [],
   "source": [
    "%%bash cd etape9_nvshmem_lt\n",
    "make all"
   ]
  },
  {
   "cell_type": "code",
   "execution_count": null,
   "id": "7d751833",
   "metadata": {},
   "outputs": [],
   "source": [
    "%%bash \n",
    "cd etape9_nvshmem_lt\n",
    "nv-nsight-cu-cli --csv --report-file rapport_etape9_nvshmem_lt.csv ./main\n",
    "cat rapport_etape9_nvshmem_lt.csv"
   ]
  },
  {
   "cell_type": "markdown",
   "id": "2c2bbaef",
   "metadata": {},
   "source": [
    "## etape10_vshmem_neighborhood_lto\n",
    "**Description :** vshmem neighborhood_sync + LTO : synchronisation fine-grain de voisinage et optimisations link-time O2.\n",
    "\n",
    "**Intérêt :** Synchronisation fine et LTO pour boucles serrées."
   ]
  },
  {
   "cell_type": "code",
   "execution_count": null,
   "id": "f613df4a",
   "metadata": {},
   "outputs": [],
   "source": [
    "%%bash \n",
    "cd etape10_vshmem_neighborhood_lto\n",
    "make all"
   ]
  },
  {
   "cell_type": "code",
   "execution_count": null,
   "id": "e164dcc5",
   "metadata": {},
   "outputs": [],
   "source": [
    "%%bash \n",
    "cd etape10_vshmem_neighborhood_lto\n",
    "nv-nsight-cu-cli --csv --report-file rapport_etape10_vshmem_neighborhood_lto.csv ./main \n",
    "cat rapport_etape10_vshmem_neighborhood_lto.csv"
   ]
  },
  {
   "cell_type": "markdown",
   "id": "4f7c0e44",
   "metadata": {},
   "source": [
    "## etape11_nvshmem_norm_overlap_neighborhood_sync_lto\n",
    "**Description :** Combinaison : NVSHMEM avec recouvrement, synchrone de voisinage, et LTO pour maximiser la concurrence.\n",
    "\n",
    "**Intérêt :** Combinaison des meilleures pratiques pour un binaire ultra-optimisé."
   ]
  },
  {
   "cell_type": "code",
   "execution_count": null,
   "id": "2e23cd41",
   "metadata": {},
   "outputs": [],
   "source": [
    "%%bash cd etape11_nvshmem_norm_overlap_neighborhood_sync_lto\n",
    "make all"
   ]
  },
  {
   "cell_type": "code",
   "execution_count": null,
   "id": "0d46b00d",
   "metadata": {},
   "outputs": [],
   "source": [
    "%%bash cd etape11_nvshmem_norm_overlap_neighborhood_sync_lto\n",
    "nv-nsight-cu-cli --csv --report-file rapport_etape11_nvshmem_norm_overlap_neighborhood_sync_lto.csv ./main\n",
    "cat rapport_etape11_nvshmem_norm_overlap_neighborhood_sync_lto.csv"
   ]
  },
  {
   "cell_type": "markdown",
   "id": "33006f2a",
   "metadata": {},
   "source": [
    "## etape12_nvshmem_norm_overlap_neighborhood_sync_lto_ext1\n",
    "**Description :** Tuning étendu : paramètres ajustables (taille de tuile, ordre de boucles) et hooks de benchmark.\n",
    "\n",
    "**Intérêt :** Ajout de paramètres de tuning et hooks de benchmarking."
   ]
  },
  {
   "cell_type": "code",
   "execution_count": null,
   "id": "8c846b41",
   "metadata": {},
   "outputs": [],
   "source": [
    "%%bash \n",
    "cd etape12_nvshmem_norm_overlap_neighborhood_sync_lto_ext1 \n",
    "make all"
   ]
  },
  {
   "cell_type": "code",
   "execution_count": null,
   "id": "86efdc52",
   "metadata": {},
   "outputs": [],
   "source": [
    "%%bash \n",
    "cd etape12_nvshmem_norm_overlap_neighborhood_sync_lto_ext1 \n",
    "nv-nsight-cu-cli --csv --report-file rapport_etape12_nvshmem_norm_overlap_neighborhood_sync_lto_ext1.csv ./main\n",
    "cat rapport_etape12_nvshmem_norm_overlap_neighborhood_sync_lto_ext1.csv"
   ]
  }
 ],
 "metadata": {
  "kernelspec": {
   "display_name": ".venv",
   "language": "python",
   "name": "python3"
  },
  "language_info": {
   "codemirror_mode": {
    "name": "ipython",
    "version": 3
   },
   "file_extension": ".py",
   "mimetype": "text/x-python",
   "name": "python",
   "nbconvert_exporter": "python",
   "pygments_lexer": "ipython3",
   "version": "3.13.3"
  }
 },
 "nbformat": 4,
 "nbformat_minor": 5
}

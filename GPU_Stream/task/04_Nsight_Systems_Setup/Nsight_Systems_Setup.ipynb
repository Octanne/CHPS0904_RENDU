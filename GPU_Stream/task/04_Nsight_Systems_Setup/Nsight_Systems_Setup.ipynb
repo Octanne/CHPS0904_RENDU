{
 "cells": [
  {
   "cell_type": "markdown",
   "metadata": {},
   "source": [
    "<h1 style=\"color:#65AE11;\">Nsight Systems Setup</h2>"
   ]
  },
  {
   "cell_type": "markdown",
   "metadata": {},
   "source": [
    "In this section you will learn how to use Nsight Systems from within this JupyterLab environment, visually profiling the baseline cypher application."
   ]
  },
  {
   "cell_type": "markdown",
   "metadata": {},
   "source": [
    "<h2 style=\"color:#65AE11;\">Objectives</h2>"
   ]
  },
  {
   "cell_type": "markdown",
   "metadata": {},
   "source": [
    "By the time you complete this section you will:\n",
    "\n",
    "* Be able to generate a report file that can be consumed by Nsight Systems\n",
    "* Have a running Nsight Systems instance inside your JupyterLab environment\n",
    "* Visually profile the timeline for the baseline cipher application\n",
    "* Observe visually that the baseline application currently uses one GPU and does not have any copy/compute overlap"
   ]
  },
  {
   "cell_type": "markdown",
   "metadata": {},
   "source": [
    "<h2 style=\"color:#65AE11;\">Instructor Presentation</h2>"
   ]
  },
  {
   "cell_type": "markdown",
   "metadata": {},
   "source": [
    "Execute the following cell to generate the URL for the remote desktop, which you should copy and paste into a new browser tab. Then, please give your attention to the instructor."
   ]
  },
  {
   "cell_type": "code",
   "execution_count": 1,
   "metadata": {},
   "outputs": [
    {
     "data": {
      "application/javascript": "var url = window.location.hostname + '/nsight/';\nelement.append(url)\n",
      "text/plain": [
       "<IPython.core.display.Javascript object>"
      ]
     },
     "metadata": {},
     "output_type": "display_data"
    }
   ],
   "source": [
    " %%js\n",
    "var url = window.location.hostname + '/nsight/';\n",
    "element.append(url)"
   ]
  },
  {
   "cell_type": "markdown",
   "metadata": {},
   "source": [
    "<h2 style=\"color:#65AE11;\">Self-Paced Notes</h2>"
   ]
  },
  {
   "cell_type": "code",
   "execution_count": 6,
   "metadata": {},
   "outputs": [
    {
     "name": "stdout",
     "output_type": "stream",
     "text": [
      "rm -f baseline *.qdrep *.sqlite\n",
      "nvcc -arch=sm_90 -O3 -Xcompiler=\"-march=native -fopenmp\" baseline.cu -o baseline\n"
     ]
    },
    {
     "name": "stdout",
     "output_type": "stream",
     "text": [
      "nsys profile --stats=true --force-overwrite=true -o baseline-report ./baseline\n",
      "TIMING: 45.495 ms (total time on GPU)\n",
      "STATUS: test passed\n",
      "Collecting data...\n",
      "Generating '/tmp/nsys-report-2b9a.qdstrm'\n",
      "[1/8] [========================100%] baseline-report.nsys-rep\n",
      "[2/8] [========================100%] baseline-report.sqlite\n"
     ]
    },
    {
     "name": "stderr",
     "output_type": "stream",
     "text": [
      "SKIPPED: /gpfs/home/colevalet/Cours/CHPS0904_RENDU/GPU_Stream/task/04_Nsight_Systems_Setup/baseline_cypher/baseline-report.sqlite does not contain NV Tools Extension (NVTX) data.\n"
     ]
    },
    {
     "name": "stdout",
     "output_type": "stream",
     "text": [
      "[3/8] Executing 'nvtx_sum' stats report\n",
      "[4/8] Executing 'osrt_sum' stats report\n",
      "\n",
      " Time (%)  Total Time (ns)  Num Calls   Avg (ns)    Med (ns)    Min (ns)  Max (ns)   StdDev (ns)           Name         \n",
      " --------  ---------------  ---------  ----------  -----------  --------  ---------  -----------  ----------------------\n",
      "     98.6      62576234592        632  99013029.4  100114512.0    195232  499584896   20347601.7  poll                  \n",
      "      1.1        704936576       1129    624390.2      10112.0      1024  386732608   11598560.8  ioctl                 \n",
      "      0.2        147583648       1327    111216.0       1632.0      1120   45746176    2166413.7  futex                 \n",
      "      0.0          5001472         40    125036.8      10848.0      1504    4495712     708830.6  mmap                  \n",
      "      0.0          3153312          5    630662.4     733696.0    365472     820928     201872.2  pthread_create        \n",
      "      0.0          2675424          2   1337712.0    1337712.0      1920    2673504    1889095.2  pthread_join          \n",
      "      0.0           746880         93      8031.0       6336.0      2112      45280       6781.4  fopen                 \n",
      "      0.0           660032         52     12692.9      11600.0      3488      28896       4669.8  mmap64                \n",
      "      0.0           642016         10     64201.6      49088.0     30592     245376      64413.4  sem_timedwait         \n",
      "      0.0           526560         95      5542.7       4704.0      1888      66240       6700.6  open64                \n",
      "      0.0           187072          1    187072.0     187072.0    187072     187072          0.0  pthread_cond_wait     \n",
      "      0.0            82528         37      2230.5       1440.0      1024      14752       2835.5  fclose                \n",
      "      0.0            81088         12      6757.3       6928.0      4672       8672       1174.6  write                 \n",
      "      0.0            62048          5     12409.6       5248.0      2976      39936      15687.1  fgets                 \n",
      "      0.0            56256          9      6250.7       5792.0      1280      10688       3220.7  open                  \n",
      "      0.0            48896          6      8149.3       9136.0      2368      12768       3813.6  munmap                \n",
      "      0.0            45024         19      2369.7       1760.0      1184       5664       1525.4  read                  \n",
      "      0.0            27456          4      6864.0       5376.0      4064      12640       3907.1  fopen64               \n",
      "      0.0            22336          3      7445.3       7520.0      4224      10592       3184.7  pipe2                 \n",
      "      0.0            19456          2      9728.0       9728.0      5920      13536       5385.3  socket                \n",
      "      0.0            18048          2      9024.0       9024.0      7168      10880       2624.8  fflush                \n",
      "      0.0            15328          2      7664.0       7664.0      6784       8544       1244.5  fread                 \n",
      "      0.0            11904          3      3968.0       3392.0      3168       5344       1196.9  fwrite                \n",
      "      0.0            11552          1     11552.0      11552.0     11552      11552          0.0  connect               \n",
      "      0.0             6112          5      1222.4       1248.0      1024       1440        159.0  fcntl                 \n",
      "      0.0             4064          1      4064.0       4064.0      4064       4064          0.0  pthread_cond_broadcast\n",
      "      0.0             2784          1      2784.0       2784.0      2784       2784          0.0  bind                  \n",
      "      0.0             1376          1      1376.0       1376.0      1376       1376          0.0  pthread_mutex_trylock \n",
      "      0.0             1216          1      1216.0       1216.0      1216       1216          0.0  dup                   \n",
      "\n",
      "[5/8] Executing 'cuda_api_sum' stats report\n",
      "\n",
      " Time (%)  Total Time (ns)  Num Calls   Avg (ns)    Med (ns)   Min (ns)  Max (ns)  StdDev (ns)           Name         \n",
      " --------  ---------------  ---------  ----------  ----------  --------  --------  -----------  ----------------------\n",
      "     56.9         45135872          2  22567936.0  22567936.0   6155168  38980704   23211159.1  cudaMemcpy            \n",
      "     27.9         22155744          1  22155744.0  22155744.0  22155744  22155744          0.0  cudaHostAlloc         \n",
      "     11.4          9073344          1   9073344.0   9073344.0   9073344   9073344          0.0  cudaFreeHost          \n",
      "      1.8          1413696          1   1413696.0   1413696.0   1413696   1413696          0.0  cudaMalloc            \n",
      "      1.4          1098016          1   1098016.0   1098016.0   1098016   1098016          0.0  cudaFree              \n",
      "      0.4           328768          1    328768.0    328768.0    328768    328768          0.0  cudaLaunchKernel      \n",
      "      0.1            66720          2     33360.0     33360.0      5952     60768      38760.8  cudaEventRecord       \n",
      "      0.0            18080          2      9040.0      9040.0      1088     16992      11245.8  cudaEventCreate       \n",
      "      0.0             7904          1      7904.0      7904.0      7904      7904          0.0  cudaEventSynchronize  \n",
      "      0.0             5696          2      2848.0      2848.0      1184      4512       2353.3  cudaEventDestroy      \n",
      "      0.0             1760          1      1760.0      1760.0      1760      1760          0.0  cuModuleGetLoadingMode\n",
      "\n",
      "[6/8] Executing 'cuda_gpu_kern_sum' stats report\n",
      "\n",
      " Time (%)  Total Time (ns)  Instances   Avg (ns)    Med (ns)   Min (ns)  Max (ns)  StdDev (ns)                             Name                           \n",
      " --------  ---------------  ---------  ----------  ----------  --------  --------  -----------  ----------------------------------------------------------\n",
      "    100.0         32903423          1  32903423.0  32903423.0  32903423  32903423          0.0  decrypt_gpu(unsigned long *, unsigned long, unsigned long)\n",
      "\n",
      "[7/8] Executing 'cuda_gpu_mem_time_sum' stats report\n",
      "\n",
      " Time (%)  Total Time (ns)  Count  Avg (ns)   Med (ns)   Min (ns)  Max (ns)  StdDev (ns)           Operation          \n",
      " --------  ---------------  -----  ---------  ---------  --------  --------  -----------  ----------------------------\n",
      "     50.1          6080352      1  6080352.0  6080352.0   6080352   6080352          0.0  [CUDA memcpy Host-to-Device]\n",
      "     49.9          6065920      1  6065920.0  6065920.0   6065920   6065920          0.0  [CUDA memcpy Device-to-Host]\n",
      "\n",
      "[8/8] Executing 'cuda_gpu_mem_size_sum' stats report\n",
      "\n",
      " Total (MB)  Count  Avg (MB)  Med (MB)  Min (MB)  Max (MB)  StdDev (MB)           Operation          \n",
      " ----------  -----  --------  --------  --------  --------  -----------  ----------------------------\n",
      "    536.871      1   536.871   536.871   536.871   536.871        0.000  [CUDA memcpy Device-to-Host]\n",
      "    536.871      1   536.871   536.871   536.871   536.871        0.000  [CUDA memcpy Host-to-Device]\n",
      "\n",
      "Generated:\n",
      "    /gpfs/home/colevalet/Cours/CHPS0904_RENDU/GPU_Stream/task/04_Nsight_Systems_Setup/baseline_cypher/baseline-report.nsys-rep\n",
      "    /gpfs/home/colevalet/Cours/CHPS0904_RENDU/GPU_Stream/task/04_Nsight_Systems_Setup/baseline_cypher/baseline-report.sqlite\n"
     ]
    }
   ],
   "source": [
    "%%bash\n",
    "cd baseline_cypher/\n",
    "make clean all\n",
    "make profile"
   ]
  },
  {
   "cell_type": "markdown",
   "metadata": {},
   "source": [
    "Click on the `...` below to view the notes from the instructor presentation. These may be helpful to you when you return to the workshop for further study at a later time."
   ]
  },
  {
   "cell_type": "markdown",
   "metadata": {
    "jupyter": {
     "source_hidden": true
    }
   },
   "source": [
    "* Execute the `%%js` cell above to generate the URL for the remote desktop, which you should copy and paste into a new browser tab.\n",
    "* When prompted, the password is `nvidia`\n",
    "* Click the application finder on the desktop that appears (at the bottom, looks like a magnifying glass), type nsight, and open “Nsight Systems”\n",
    "* Click “Open -> root -> Desktop -> reports -> 04_Nsight_Systems_Setup/baseline_cipher/baseline-report.qdrep”\n",
    "* Close the warning/error that shows up, it can be disregarded\n",
    "* You can close the left-side menu and collapse the bottom menu to make space for the timeline\n",
    "* Open the “CUDA” portion of the timeline\n",
    "* You can Zoom into parts of the timeline by drag-clicking an area on the timeline and then choosing \"Zoom\" when prompted.\n"
   ]
  },
  {
   "cell_type": "markdown",
   "metadata": {},
   "source": [
    "<h2 style=\"color:#65AE11;\">Visually Profile the Baseline Application</h2>"
   ]
  },
  {
   "cell_type": "markdown",
   "metadata": {},
   "source": [
    "Just as you saw the instructor do, use a terminal to create a report for the baseline cipher application, and then, open the remote desktop, Nsight Systems, and open the report file. Explore interacting with the timeline. By the time you are finished you should have a view of the timeline that looks roughly like this:"
   ]
  },
  {
   "cell_type": "markdown",
   "metadata": {},
   "source": [
    "![baseline timeline](./images/baseline_timeline.png)"
   ]
  },
  {
   "cell_type": "markdown",
   "metadata": {},
   "source": [
    "<h2 style=\"color:#65AE11;\">Check for Understanding</h2>"
   ]
  },
  {
   "cell_type": "markdown",
   "metadata": {},
   "source": [
    "Please answer the following to confirm you've learned the main objectives of this section. You can display the answers for each question by clicking on the \"...\" cells below the questions."
   ]
  },
  {
   "cell_type": "markdown",
   "metadata": {},
   "source": [
    "---"
   ]
  },
  {
   "cell_type": "markdown",
   "metadata": {},
   "source": [
    "**How many GPUs were used for the baseline cipher application?**\n",
    "\n",
    "1. One\n",
    "2. Two\n",
    "3. Three\n",
    "4. Four"
   ]
  },
  {
   "cell_type": "markdown",
   "metadata": {
    "jupyter": {
     "source_hidden": true
    }
   },
   "source": [
    "**Answer: 1.**"
   ]
  },
  {
   "cell_type": "markdown",
   "metadata": {},
   "source": [
    "---"
   ]
  },
  {
   "cell_type": "markdown",
   "metadata": {},
   "source": [
    "**Which of the following do you see in the timeline? Choose all that apply.**\n",
    "\n",
    "1. Host to device memory copies\n",
    "2. Compute on the GPU(s)\n",
    "3. Device to host memory copies"
   ]
  },
  {
   "cell_type": "markdown",
   "metadata": {
    "jupyter": {
     "source_hidden": true
    }
   },
   "source": [
    "**Answer: 1, 2, 3.**"
   ]
  },
  {
   "cell_type": "markdown",
   "metadata": {},
   "source": [
    "---"
   ]
  },
  {
   "cell_type": "markdown",
   "metadata": {},
   "source": [
    "**How much copy/compute overlap do you observe in the timeline?**\n",
    "\n",
    "1. None\n",
    "2. Some\n",
    "3. Total"
   ]
  },
  {
   "cell_type": "markdown",
   "metadata": {
    "jupyter": {
     "source_hidden": true
    }
   },
   "source": [
    "**Answer: 1.**"
   ]
  },
  {
   "cell_type": "markdown",
   "metadata": {},
   "source": [
    "---"
   ]
  },
  {
   "cell_type": "markdown",
   "metadata": {},
   "source": [
    "<h2 style=\"color:#65AE11;\">Next</h2>"
   ]
  },
  {
   "cell_type": "markdown",
   "metadata": {},
   "source": [
    "Now that you are familiar with the basline application, can run it and visually profile it, we will turn our attention to using concurrent CUDA Streams, the mechanism by which we will be able to peform copy/compute overlap. After you learn about CUDA streams at a high level, you will be coding them and viewing how they affect application timelines in Nsight Systems.\n",
    "\n",
    "Please continue to the next section: [*CUDA Streams*](../05_CUDA_Streams/CUDA_Streams.ipynb)."
   ]
  },
  {
   "cell_type": "markdown",
   "metadata": {},
   "source": [
    "<h2 style=\"color:#65AE11;\">Optional Further Study</h2>"
   ]
  },
  {
   "cell_type": "markdown",
   "metadata": {},
   "source": [
    "The following are for students with time and interest to do additional study on topics related to this workshop.\n",
    "\n",
    "* [NVIDIA Developer Zone](https://developer.nvidia.com/nsight-systems) and the [Nsight Systems docs](https://docs.nvidia.com/nsight-systems/index.html) give extensive coverage to Nsight Systems, which we are using primarily in this workshop for its visual timeline.\n",
    "* [Nsight Compute](https://developer.nvidia.com/nsight-compute) is an additional part of the Nsight tooling suite, and is a powerful kernel profiler for CUDA applications.\n",
    "* [GTC On Demand](https://www.nvidia.com/en-us/gtc/on-demand/) makes available [many presentations](https://www.nvidia.com/en-us/gtc/on-demand/?search=nsight) highlighting the effective use of Nsight tools."
   ]
  }
 ],
 "metadata": {
  "kernelspec": {
   "display_name": ".venv",
   "language": "python",
   "name": "python3"
  },
  "language_info": {
   "codemirror_mode": {
    "name": "ipython",
    "version": 3
   },
   "file_extension": ".py",
   "mimetype": "text/x-python",
   "name": "python",
   "nbconvert_exporter": "python",
   "pygments_lexer": "ipython3",
   "version": "3.9.18"
  }
 },
 "nbformat": 4,
 "nbformat_minor": 4
}
